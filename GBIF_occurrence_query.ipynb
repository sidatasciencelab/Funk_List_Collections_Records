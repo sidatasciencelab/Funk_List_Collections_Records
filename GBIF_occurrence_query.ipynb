{
 "cells": [
  {
   "cell_type": "markdown",
   "id": "41a21ebf-290f-4936-96ef-db7c9a624f87",
   "metadata": {},
   "source": [
    "# Import required Libraries"
   ]
  },
  {
   "cell_type": "markdown",
   "id": "8061de0d-ff48-4444-af9b-d8b10dbcbe02",
   "metadata": {},
   "source": [
    "We will be using Pandas to analyze and query the GBIF dataset. Regular Expressions allows us to query with a high-degree of variance."
   ]
  },
  {
   "cell_type": "code",
   "execution_count": 1,
   "id": "9198eafe-dd8a-4e58-83cc-cb77fa3c5969",
   "metadata": {},
   "outputs": [],
   "source": [
    "import pandas as pd\n",
    "import re"
   ]
  },
  {
   "cell_type": "code",
   "execution_count": 2,
   "id": "1f178c67-d0eb-45fa-b45f-25fa7d8023ff",
   "metadata": {},
   "outputs": [
    {
     "data": {
      "text/plain": [
       "'1.3.5'"
      ]
     },
     "execution_count": 2,
     "metadata": {},
     "output_type": "execute_result"
    }
   ],
   "source": [
    "pd.__version__"
   ]
  },
  {
   "cell_type": "markdown",
   "id": "8ab0b458-1f9b-40c0-a9d3-4435590f13f5",
   "metadata": {},
   "source": [
    "# Load GBIF Data"
   ]
  },
  {
   "cell_type": "markdown",
   "id": "44454d75-3461-4680-b4cd-3e1abe3193d6",
   "metadata": {},
   "source": [
    "Make sure to place the gbif.csv file in the data folder. Also, name it gbif.csv."
   ]
  },
  {
   "cell_type": "code",
   "execution_count": null,
   "id": "dd28f221-4dfd-4851-b08b-04a2ca66da6c",
   "metadata": {},
   "outputs": [],
   "source": [
    "!wc -l occurrence.txt"
   ]
  },
  {
   "cell_type": "code",
   "execution_count": null,
   "id": "0bcedc7e-70ed-4b1a-99ca-569c63a3f770",
   "metadata": {},
   "outputs": [],
   "source": [
    "df = pd.read_csv(\"occurrence.txt\", \n",
    "                 sep=\"\\t\", on_bad_lines='skip',\n",
    "                 nrows=100000)\n",
    "df.info()"
   ]
  },
  {
   "cell_type": "code",
   "execution_count": null,
   "id": "ebdfca7b-a7d8-4cdc-a022-2d7211d9c8c0",
   "metadata": {},
   "outputs": [],
   "source": [
    "list(df.columns)"
   ]
  },
  {
   "cell_type": "code",
   "execution_count": null,
   "id": "a65525c2-655e-4128-a893-df0297440d27",
   "metadata": {},
   "outputs": [],
   "source": [
    "restrict_columns = [\"identifiedBy\", \n",
    "                    \"recordedBy\", \n",
    "                    \"occurrenceID\"]\n",
    "df = pd.read_csv(\"/scratch/genomics/dikowr/AWHI-collections-data-funk_list/data/occurrence.txt\", \n",
    "                 sep=\"\\t\", on_bad_lines='skip',\n",
    "                 usecols=restrict_columns,\n",
    "                 nrows=100000)\n",
    "df.info()"
   ]
  },
  {
   "cell_type": "code",
   "execution_count": null,
   "id": "fc9be6b6-874b-4c36-a4a9-e27c7131d72e",
   "metadata": {},
   "outputs": [],
   "source": [
    "restrict_columns = [\"identifiedBy\", \n",
    "                    \"recordedBy\", \n",
    "                    \"occurrenceID\"]\n",
    "df = pd.read_csv(\"/scratch/genomics/dikowr/AWHI-collections-data-funk_list/data/occurrence.txt\", \n",
    "                 sep=\"\\t\", on_bad_lines='skip',\n",
    "                 usecols=restrict_columns)\n",
    "df.info()"
   ]
  },
  {
   "cell_type": "markdown",
   "id": "33e9a7d8-f679-40f9-b236-286d79855d85",
   "metadata": {},
   "source": [
    "# Load Funk List Data"
   ]
  },
  {
   "cell_type": "code",
   "execution_count": null,
   "id": "acf5ca4f-a6cf-4f79-88ec-2e9f17664d99",
   "metadata": {},
   "outputs": [],
   "source": [
    "funk_df = pd.read_csv(\"Funk_List_Names_RegEx.csv\")\n",
    "funk_df = funk_df.fillna(False)\n",
    "funk_df"
   ]
  },
  {
   "cell_type": "markdown",
   "id": "4ae57390-c700-4885-b9ea-d1905fe98e81",
   "metadata": {},
   "source": [
    "# Reverse the Formulas for identifiedBy"
   ]
  },
  {
   "cell_type": "code",
   "execution_count": 9,
   "id": "79c808e9-5526-44b8-9318-dc5842718894",
   "metadata": {},
   "outputs": [],
   "source": [
    "reverse_names = []\n",
    "reverse_spouse_names = []\n",
    "for index, row in funk_df.iterrows():\n",
    "    lastname = row.last_name\n",
    "    first_name = row.first_name\n",
    "    middle_name = row.middle_name\n",
    "    if middle_name != False:\n",
    "    # Funk, (V(\\.|icki)* )(A(\\.|nn)*)*)\n",
    "        reverse_names.append(f\"{lastname}, {first_name[0]}(\\.|{first_name[1:]})(( *{middle_name[0]})(\\.|{middle_name[1:]})*)*\")\n",
    "    else:\n",
    "        if first_name != False:\n",
    "            reverse_names.append(f\"{lastname}, {first_name[0]}(\\.|{first_name[1:]})\")\n",
    "        else:\n",
    "            print(lastname, first_name)\n",
    "    if row.SPOUSE != False:\n",
    "        spouse_names = row.SPOUSE.split()\n",
    "        spouse_lastname = spouse_names[-1]\n",
    "        spouse_firstname = spouse_names[0]\n",
    "        if len(spouse_names) == 3:\n",
    "            spouse_middlename = spouse_names[1]\n",
    "            reverse_spouse_names.append(f\"{spouse_lastname}, {spouse_firstname[0]}(\\.|{spouse_firstname[1:]})(( *{spouse_middlename[0]})(\\.|{spouse_middlename[1:]})*)*\")\n",
    "        else:\n",
    "            reverse_spouse_names.append(f\"{spouse_lastname}, {spouse_firstname[0]}(\\.|{spouse_firstname[1:]})\")\n",
    "    else:\n",
    "        reverse_spouse_names.append(False)\n",
    "funk_df[\"regex_reverse\"] = reverse_names\n",
    "funk_df[\"regex_reverse_spouse\"] = reverse_spouse_names"
   ]
  },
  {
   "cell_type": "markdown",
   "id": "5a2d0ef2-34e7-4133-98b4-ca09a78f5f3b",
   "metadata": {},
   "source": [
    "# Extract the Data"
   ]
  },
  {
   "cell_type": "code",
   "execution_count": 10,
   "id": "3086dfaf-5b4d-43b5-9501-122f4f8d9222",
   "metadata": {},
   "outputs": [],
   "source": [
    "import os"
   ]
  },
  {
   "cell_type": "code",
   "execution_count": 11,
   "id": "cce0d81e-7eae-4bd8-917e-4bdd3739d35f",
   "metadata": {},
   "outputs": [],
   "source": [
    "def extract_results(df,\n",
    "                    query_columns: list,\n",
    "                    regex_formula:str,\n",
    "                    directory: str,\n",
    "                    woman:str,\n",
    "                    variant: bool,\n",
    "                    spouse: bool,\n",
    "                    save_if_match=True\n",
    "                   ):\n",
    "    \"\"\"\n",
    "    This function will take an input DataFrame and match a RegEx formula on a specific column in the DataFrame.\n",
    "    - df = DataFrame (GBIF)\n",
    "    - query_columns = the columns in the GBIF dataset that you wish to query\n",
    "    - regex_formula = the formula you seek to match\n",
    "    - output_file = the file to which you wish to save the results\n",
    "    - woman = woman's name\n",
    "    - spouse = Boolean - if it is a spouse, set this to True\n",
    "    - save_if_match (optional) - if True, it only saves when matches are found\n",
    "    \"\"\"\n",
    "    for query_column in query_columns:\n",
    "        res = df.loc[df[query_column].str.contains(regex_formula, regex=True).fillna(False)]\n",
    "        if save_if_match==True and len(res) > 0:\n",
    "            path = f\"{directory}/{query_column}\"\n",
    "            if spouse==True:\n",
    "                path=path+\"_spouse\"\n",
    "            if variant == True:\n",
    "                path = path+\"_variant\"\n",
    "            if os.path.exists(path):\n",
    "                pass\n",
    "            else:\n",
    "                os.mkdir(path)\n",
    "                \n",
    "            output_file = f\"{path}/{woman}.csv\"\n",
    "            res.to_csv(output_file, index=False)\n",
    "    return res"
   ]
  },
  {
   "cell_type": "code",
   "execution_count": null,
   "id": "98424bfd-52ad-430a-a8b4-e7523e127912",
   "metadata": {},
   "outputs": [],
   "source": [
    "for index, row in funk_df.iterrows():\n",
    "    woman = f\"{row['last_name']}_{row['first_name']}\"\n",
    "    \n",
    "    ### FUNKLIST WOMAN\n",
    "    regex_formula = row[\"regex_formulas\"]\n",
    "    try:\n",
    "        extract_results(df, [\"identifiedBy\", \"recordedBy\"], regex_formula, \"gbif_data\", woman, variant=False, spouse=False)\n",
    "    except:\n",
    "        TypeError\n",
    "    \n",
    "    regex_formula_variant = row[\"regex_formulas_variants\"]\n",
    "    try:\n",
    "        extract_results(df, [\"identifiedBy\", \"recordedBy\"], regex_formula_variant, \"gbif_data\", woman, variant=True, spouse=False)\n",
    "    except:\n",
    "        TypeError\n",
    "    \n",
    "    regex_formula_reverse = row[\"regex_reverse\"]\n",
    "    try:\n",
    "        extract_results(df, [\"identifiedBy\"], regex_formula_reverse, \"gbif_data\", woman, variant=False, spouse=False)\n",
    "    except:\n",
    "        TypeError\n",
    "    \n",
    "    \n",
    "    ### SPOUSES\n",
    "    regex_formula_spouse = row[\"regex_formulas_spouse\"]\n",
    "    try:\n",
    "        extract_results(df, [\"identifiedBy\", \"recordedBy\"], regex_formula_spouse, \"gbif_data\", woman, variant=False, spouse=True)\n",
    "    except:\n",
    "        TypeError\n",
    "    \n",
    "    \n",
    "    regex_formula_spouse_reverse = row[\"regex_reverse_spouse\"]\n",
    "    try:\n",
    "        extract_results(df, [\"identifiedBy\"], regex_formula_spouse_reverse, \"gbif_data\", woman, variant=False, spouse=True)\n",
    "    except:\n",
    "        TypeError\n",
    "    \n"
   ]
  }
 ],
 "metadata": {
  "kernelspec": {
   "display_name": "Python 3 (ipykernel)",
   "language": "python",
   "name": "python3"
  },
  "language_info": {
   "codemirror_mode": {
    "name": "ipython",
    "version": 3
   },
   "file_extension": ".py",
   "mimetype": "text/x-python",
   "name": "python",
   "nbconvert_exporter": "python",
   "pygments_lexer": "ipython3",
   "version": "3.9.12"
  }
 },
 "nbformat": 4,
 "nbformat_minor": 5
}
